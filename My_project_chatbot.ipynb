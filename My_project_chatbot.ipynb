{
  "nbformat": 4,
  "nbformat_minor": 0,
  "metadata": {
    "colab": {
      "provenance": [],
      "toc_visible": true,
      "authorship_tag": "ABX9TyNG7xsRZ4MWW+koCtNEtBHA",
      "include_colab_link": true
    },
    "kernelspec": {
      "name": "python3",
      "display_name": "Python 3"
    },
    "language_info": {
      "name": "python"
    }
  },
  "cells": [
    {
      "cell_type": "markdown",
      "metadata": {
        "id": "view-in-github",
        "colab_type": "text"
      },
      "source": [
        "<a href=\"https://colab.research.google.com/github/DiegoPablo2021/chatbot-help-desk/blob/main/My_project_chatbot.ipynb\" target=\"_parent\"><img src=\"https://colab.research.google.com/assets/colab-badge.svg\" alt=\"Open In Colab\"/></a>"
      ]
    },
    {
      "cell_type": "markdown",
      "source": [
        "# Instalando a biblioteca do Google para IA. \"-q -U\" -q quite (resultado silencioso) -U (update do programa)."
      ],
      "metadata": {
        "id": "yFg-TMN76SAS"
      }
    },
    {
      "cell_type": "code",
      "source": [
        "!pip install -q -U google-generativeai"
      ],
      "metadata": {
        "id": "pYxQVQEwauu-"
      },
      "execution_count": 22,
      "outputs": []
    },
    {
      "cell_type": "markdown",
      "source": [
        "# Importando os pacotes necessários. Utilizei a técnica do Secrets do Google Colab conforme Fabrício Carraro ensinou.\n"
      ],
      "metadata": {
        "id": "eag-9hVv6o_t"
      }
    },
    {
      "cell_type": "code",
      "source": [
        "import google.generativeai as genai\n",
        "\n",
        "from google.colab import userdata\n",
        "api_key = userdata.get('SECRET_KEY')\n",
        "genai.configure(api_key=api_key)"
      ],
      "metadata": {
        "id": "H2SN0A0PqLCD"
      },
      "execution_count": 23,
      "outputs": []
    },
    {
      "cell_type": "markdown",
      "source": [
        "# Temperatura de 0.5, padrão\n"
      ],
      "metadata": {
        "id": "Vu6sd3Z766Mt"
      }
    },
    {
      "cell_type": "code",
      "source": [
        "generation_config = {\n",
        "  \"candidate_count\": 1,\n",
        "  \"temperature\": 0.5,\n",
        "}"
      ],
      "metadata": {
        "id": "UtP8P1XHqnXh"
      },
      "execution_count": 24,
      "outputs": []
    },
    {
      "cell_type": "markdown",
      "source": [
        "# Configurações de segurança da resposta do modelo"
      ],
      "metadata": {
        "id": "Yzp0B0bK6E3A"
      }
    },
    {
      "cell_type": "code",
      "execution_count": 25,
      "metadata": {
        "id": "OwqleiwVTcXR"
      },
      "outputs": [],
      "source": [
        "safety_settings = {\n",
        "    \"Harassment\": \"BLOCK_NONE\",\n",
        "    \"Hate\": \"BLOCK_NONE\",\n",
        "    \"Sexual\": \"BLOCK_NONE\",\n",
        "    \"Dangerous\": \"BLOCK_NONE\"\n",
        "}"
      ]
    },
    {
      "cell_type": "markdown",
      "source": [
        "# Escolhi o modelo que está sendo mais testado 'gemini-1.0-pro'"
      ],
      "metadata": {
        "id": "0X7fBTAT_Ks0"
      }
    },
    {
      "cell_type": "code",
      "source": [
        "model = genai.GenerativeModel(model_name='gemini-1.0-pro',\n",
        "                              generation_config=generation_config,\n",
        "                              safety_settings=safety_settings)"
      ],
      "metadata": {
        "id": "LCDUnxrVqS_0"
      },
      "execution_count": 26,
      "outputs": []
    },
    {
      "cell_type": "code",
      "source": [
        "convo = model.start_chat(history=[\n",
        "  {\n",
        "    \"role\": \"user\",\n",
        "    \"parts\": [\"Tentei reiniciar o modem e roteador, mas a internet continua lenta.\"]\n",
        "  },\n",
        "  {\n",
        "    \"role\": \"model\",\n",
        "    \"parts\": [\"Entendo. Você poderia verificar se outros dispositivos na mesma rede também estão lentos? Se sim, pode ser um problema com o provedor de internet.\"]\n",
        "  },\n",
        "  {\n",
        "    \"role\": \"user\",\n",
        "    \"parts\": [\"Sim, outros dispositivos também estão lentos.\"]\n",
        "  },\n",
        "  {\n",
        "    \"role\": \"model\",\n",
        "    \"parts\": [\"Nesse caso, recomendo entrar em contato com seu provedor de internet para reportar o problema. Deseja ser redirecionado para um humano para registrar um chamado?\"]\n",
        "  },\n",
        "])\n",
        "\n",
        "convo.send_message(\"Esqueci minha senha\")\n",
        "print(convo.last.text)"
      ],
      "metadata": {
        "colab": {
          "base_uri": "https://localhost:8080/",
          "height": 173
        },
        "id": "KK3n08Bhq8Ki",
        "outputId": "e89ab082-de5d-429a-d0eb-8c6176cc0d85"
      },
      "execution_count": 41,
      "outputs": [
        {
          "output_type": "stream",
          "name": "stdout",
          "text": [
            "Entendo. Você pode redefinir sua senha seguindo estes passos:\n",
            "\n",
            "1. Acesse a página de login do seu roteador.\n",
            "2. Clique no link \"Esqueci minha senha\".\n",
            "3. Digite o endereço de e-mail associado à sua conta.\n",
            "4. Você receberá um e-mail com um link para redefinir sua senha.\n",
            "5. Clique no link e siga as instruções para criar uma nova senha.\n",
            "\n",
            "Se você não conseguir redefinir sua senha usando esses passos, entre em contato com o fabricante do seu roteador para obter ajuda.\n"
          ]
        }
      ]
    }
  ]
}